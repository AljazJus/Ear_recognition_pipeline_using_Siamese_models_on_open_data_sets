{
 "cells": [
  {
   "cell_type": "markdown",
   "metadata": {},
   "source": [
    "# SIames model evaluateion"
   ]
  },
  {
   "cell_type": "code",
   "execution_count": 93,
   "metadata": {},
   "outputs": [],
   "source": [
    "import torch\n",
    "import torch.nn as nn\n",
    "import torch.nn.functional as F\n",
    "import os\n",
    "from tqdm import tqdm\n",
    "import random\n",
    "import numpy as np\n",
    "from torch.utils.data import Dataset, DataLoader\n",
    "from torchvision import transforms\n",
    "from PIL import Image\n",
    "import glob\n",
    "from collections import defaultdict\n",
    "import pandas as pd\n",
    "import gc\n",
    "import json\n",
    "import matplotlib.pyplot as plt\n",
    "from siamese_dataset2 import SiameseDataset\n"
   ]
  },
  {
   "cell_type": "code",
   "execution_count": 94,
   "metadata": {},
   "outputs": [],
   "source": [
    "device = torch.device(\"cpu\")\n",
    "if torch.backends.mps.is_available():\n",
    "    device = torch.device(\"mps\")\n",
    "elif torch.cuda.is_available():\n",
    "    device = torch.device(\"cuda\")\n"
   ]
  },
  {
   "cell_type": "markdown",
   "metadata": {},
   "source": [
    "## INIT THE MODEL"
   ]
  },
  {
   "cell_type": "code",
   "execution_count": 95,
   "metadata": {},
   "outputs": [],
   "source": [
    "\n",
    "class SiameseNetwork(nn.Module):\n",
    "    def __init__(self):\n",
    "        super(SiameseNetwork, self).__init__()\n",
    "        self.embedding = nn.Sequential(\n",
    "            nn.Conv2d(3, 64, 10),  # Input is 100x100x3\n",
    "            nn.ReLU(inplace=True),\n",
    "            nn.MaxPool2d(2, padding=1),  # padding is added to match 'same' padding in Keras\n",
    "            nn.Conv2d(64, 128, 7),\n",
    "            nn.ReLU(inplace=True),\n",
    "            nn.MaxPool2d(2, padding=1),  # padding is added to match 'same' padding in Keras\n",
    "            nn.Conv2d(128, 128, 4),\n",
    "            nn.ReLU(inplace=True),\n",
    "            nn.MaxPool2d(2),  # padding is added to match 'same' padding in Keras\n",
    "            nn.Conv2d(128, 256, 4),\n",
    "            nn.ReLU(inplace=True),\n",
    "            nn.Flatten(),\n",
    "            nn.Linear(256*6*6, 4096),\n",
    "            nn.Sigmoid()\n",
    "        )\n",
    "        self.classifier = nn.Linear(4096, 1)\n",
    "\n",
    "    def forward_one(self, x):\n",
    "        x = self.embedding(x)\n",
    "        return x\n",
    "\n",
    "    def forward(self, input1, input2):\n",
    "        output1 = self.forward_one(input1)\n",
    "        output2 = self.forward_one(input2)\n",
    "        l1_distance = torch.abs(output1 - output2)\n",
    "        output = self.classifier(l1_distance)\n",
    "        return output\n",
    "\n",
    "model= SiameseNetwork()\n",
    "# print(model)\n",
    "model.to(device)\n",
    "_=model.eval()"
   ]
  },
  {
   "cell_type": "markdown",
   "metadata": {},
   "source": [
    "### Load Weights"
   ]
  },
  {
   "cell_type": "code",
   "execution_count": 96,
   "metadata": {},
   "outputs": [
    {
     "data": {
      "text/plain": [
       "SiameseNetwork(\n",
       "  (embedding): Sequential(\n",
       "    (0): Conv2d(3, 64, kernel_size=(10, 10), stride=(1, 1))\n",
       "    (1): ReLU(inplace=True)\n",
       "    (2): MaxPool2d(kernel_size=2, stride=2, padding=1, dilation=1, ceil_mode=False)\n",
       "    (3): Conv2d(64, 128, kernel_size=(7, 7), stride=(1, 1))\n",
       "    (4): ReLU(inplace=True)\n",
       "    (5): MaxPool2d(kernel_size=2, stride=2, padding=1, dilation=1, ceil_mode=False)\n",
       "    (6): Conv2d(128, 128, kernel_size=(4, 4), stride=(1, 1))\n",
       "    (7): ReLU(inplace=True)\n",
       "    (8): MaxPool2d(kernel_size=2, stride=2, padding=0, dilation=1, ceil_mode=False)\n",
       "    (9): Conv2d(128, 256, kernel_size=(4, 4), stride=(1, 1))\n",
       "    (10): ReLU(inplace=True)\n",
       "    (11): Flatten(start_dim=1, end_dim=-1)\n",
       "    (12): Linear(in_features=9216, out_features=4096, bias=True)\n",
       "    (13): Sigmoid()\n",
       "  )\n",
       "  (classifier): Linear(in_features=4096, out_features=1, bias=True)\n",
       ")"
      ]
     },
     "execution_count": 96,
     "metadata": {},
     "output_type": "execute_result"
    }
   ],
   "source": [
    "model_path='/Users/aljazjustin/Siht/Praksa/Ear-based-recognition/SIames_model/Color-all_data5/best_model_acc.pth'\n",
    "\n",
    "checkpoint = torch.load(model_path, map_location=torch.device('cpu'))\n",
    "# Remove 'module.' prefix\n",
    "new_state_dict = {k.replace('module.', ''): v for k, v in checkpoint['model_state_dict'].items()}\n",
    "# Load the weights\n",
    "model.load_state_dict(new_state_dict)\n",
    "model.to(device)"
   ]
  },
  {
   "cell_type": "markdown",
   "metadata": {},
   "source": [
    "### Prepear test dataset"
   ]
  },
  {
   "cell_type": "code",
   "execution_count": 97,
   "metadata": {},
   "outputs": [],
   "source": [
    "\n",
    "\n",
    "transform = transforms.Compose([\n",
    "            transforms.Resize((100, 100)),  # Resize images \n",
    "            # transforms.Grayscale(num_output_channels=3),  # Convert images to grayscale\n",
    "            transforms.Lambda(lambda image: image.convert('RGB')),\n",
    "            transforms.ToTensor(),  # Convert images to PyTorch tensors\n",
    "        ])\n",
    "\n",
    "test_files=\"/Users/aljazjustin/Siht/Praksa/NEW/final_data/test\"\n",
    "\n",
    "dataset_test = SiameseDataset(test_files, transform=transform)\n",
    "test_loader = DataLoader(dataset_test, batch_size=32, shuffle=False)\n"
   ]
  },
  {
   "cell_type": "code",
   "execution_count": 98,
   "metadata": {},
   "outputs": [
    {
     "name": "stdout",
     "output_type": "stream",
     "text": [
      "Precision: 0.8105263157894737\n",
      "Recall: 0.8339350180505415\n",
      "Accuracy: 0.8203592814371258\n",
      "F1 Score: 0.8220640569395017\n"
     ]
    }
   ],
   "source": [
    "from sklearn.metrics import precision_score, recall_score, f1_score, accuracy_score\n",
    "\n",
    "model.eval()\n",
    "predictions = []\n",
    "labels = []\n",
    "\n",
    "def evaluate_model(model, test_loader, threshold=0.5):\n",
    "    for batch in test_loader:\n",
    "        image1, image2, label = batch\n",
    "        image1 = image1.to(device)\n",
    "        image2 = image2.to(device)\n",
    "        output = model(image1, image2)\n",
    "        \n",
    "        # Convert model output to label\n",
    "        predicted_labels = (output > threshold).float()\n",
    "        predictions.extend(predicted_labels.tolist())\n",
    "        labels.extend(label.tolist())\n",
    "\n",
    "    # Calculate precision and recall\n",
    "    precision = precision_score(labels, predictions)\n",
    "    recall = recall_score(labels, predictions)\n",
    "    accuracy = accuracy_score(labels, predictions)\n",
    "    f1 = f1_score(labels, predictions)\n",
    "    return precision, recall, accuracy, f1\n",
    "\n",
    "precision, recall, accuracy, f1 = evaluate_model(model, test_loader)\n",
    "\n",
    "print(f'Precision: {precision}')\n",
    "print(f'Recall: {recall}')\n",
    "print(f'Accuracy: {accuracy}')\n",
    "print(f'F1 Score: {f1}')\n"
   ]
  },
  {
   "cell_type": "markdown",
   "metadata": {},
   "source": [
    "### Find the best threshold for the model"
   ]
  },
  {
   "cell_type": "code",
   "execution_count": 99,
   "metadata": {},
   "outputs": [
    {
     "name": "stdout",
     "output_type": "stream",
     "text": [
      "Threshold: 0.34,Accuracy: 0.8165623946911372\n",
      "Threshold: 0.36,Accuracy: 0.8134558252766064\n",
      "Threshold: 0.38,Accuracy: 0.8130911445100057\n",
      "Threshold: 0.4,Accuracy: 0.8122924263727056\n",
      "Threshold: 0.42,Accuracy: 0.8122615815436545\n",
      "Threshold: 0.44,Accuracy: 0.812378350747349\n",
      "Threshold: 0.46,Accuracy: 0.8126260887362886\n",
      "Threshold: 0.48,Accuracy: 0.8124231008453353\n",
      "Threshold: 0.5,Accuracy: 0.8124820897976809\n",
      "Threshold: 0.52,Accuracy: 0.8126257391239872\n",
      "Threshold: 0.54,Accuracy: 0.8127864705553163\n",
      "Threshold: 0.56,Accuracy: 0.8128651658238425\n",
      "Threshold: 0.58,Accuracy: 0.8129865226105185\n",
      "Threshold: 0.6,Accuracy: 0.8129802190395827\n",
      "Threshold: 0.62,Accuracy: 0.8129585770114091\n",
      "Threshold: 0.64,Accuracy: 0.8129606501842763\n",
      "Threshold: 0.66,Accuracy: 0.8129708458020801\n",
      "Threshold: 0.68,Accuracy: 0.8129948903329163\n",
      "Threshold: 0.7,Accuracy: 0.8129556628451367\n",
      "Threshold: 0.72,Accuracy: 0.8129245081405004\n",
      "Threshold: 0.74,Accuracy: 0.8128171635435286\n",
      "Threshold: 0.76,Accuracy: 0.8127250852539539\n",
      "Threshold: 0.78,Accuracy: 0.8126179695029796\n",
      "Threshold: 0.8,Accuracy: 0.8123988136140013\n",
      "Threshold: 0.82,Accuracy: 0.8122057021090836\n",
      "{0.34: {'precision': 0.7982637348636785, 'recall': 0.851111840217801, 'accuracy': 0.8165623946911372, 'f1': 0.8238246536030056}, 0.36: {'precision': 0.7930441899542136, 'recall': 0.8534983092689916, 'accuracy': 0.8134558252766064, 'f1': 0.8221610107074862}, 0.38: {'precision': 0.7918422068170016, 'recall': 0.8541103917294833, 'accuracy': 0.8130911445100057, 'f1': 0.8217983262719937}, 0.4: {'precision': 0.7907022157668531, 'recall': 0.8522161672508825, 'accuracy': 0.8122924263727056, 'f1': 0.8203074805761512}, 0.42: {'precision': 0.791474151800861, 'recall': 0.8501655040664261, 'accuracy': 0.8122615815436545, 'f1': 0.8197703124398718}, 0.44: {'precision': 0.791820930786569, 'recall': 0.849220621089418, 'accuracy': 0.812378350747349, 'f1': 0.8195169168486544}, 0.46: {'precision': 0.7927288781418502, 'recall': 0.8485529815100163, 'accuracy': 0.8126260887362886, 'f1': 0.8196914944251793}, 0.48: {'precision': 0.792895405201216, 'recall': 0.8469771135206534, 'accuracy': 0.8124231008453353, 'f1': 0.8190444161492486}, 0.5: {'precision': 0.7929760854052967, 'recall': 0.8462486448410115, 'accuracy': 0.8124820897976809, 'f1': 0.8187466747147167}, 0.52: {'precision': 0.7936378706210756, 'recall': 0.8452581350206702, 'accuracy': 0.8126257391239872, 'f1': 0.8186350051605842}, 0.54: {'precision': 0.794766723226124, 'recall': 0.8437079136652524, 'accuracy': 0.8127864705553163, 'f1': 0.8185061102580533}, 0.56: {'precision': 0.7957404683903004, 'recall': 0.842249855457543, 'accuracy': 0.8128651658238425, 'f1': 0.818334763628447}, 0.58: {'precision': 0.7966978051648839, 'recall': 0.8408478679927714, 'accuracy': 0.8129865226105185, 'f1': 0.8181774276231965}, 0.6: {'precision': 0.7975934886865049, 'recall': 0.8393481292220107, 'accuracy': 0.8129802190395827, 'f1': 0.817938173599687}, 0.62: {'precision': 0.7985853349819322, 'recall': 0.837730688923662, 'accuracy': 0.8129585770114091, 'f1': 0.8176895463784225}, 0.64: {'precision': 0.7997577409401762, 'recall': 0.8360196334619806, 'accuracy': 0.8129606501842763, 'f1': 0.8174866254460177}, 0.66: {'precision': 0.8006990760007324, 'recall': 0.8344295108861308, 'accuracy': 0.8129708458020801, 'f1': 0.8172162346242887}, 0.68: {'precision': 0.801745043527478, 'recall': 0.8329021494249809, 'accuracy': 0.8129948903329163, 'f1': 0.8170265196714794}, 0.7: {'precision': 0.8024898365877187, 'recall': 0.8314918734606177, 'accuracy': 0.8129556628451367, 'f1': 0.8167333394752218}, 0.72: {'precision': 0.8033564986411184, 'recall': 0.8299033660686753, 'accuracy': 0.8129245081405004, 'f1': 0.8164140211776711}, 0.74: {'precision': 0.8041530037600214, 'recall': 0.8281034773834849, 'accuracy': 0.8128171635435286, 'f1': 0.8159523311956569}, 0.76: {'precision': 0.8048660404430794, 'recall': 0.8264994856758004, 'accuracy': 0.8127250852539539, 'f1': 0.8155391956330131}, 0.78: {'precision': 0.8055183876449317, 'recall': 0.8250223631276322, 'accuracy': 0.8126179695029796, 'f1': 0.8151536322680798}, 0.8: {'precision': 0.8060945787030741, 'recall': 0.8234717357079079, 'accuracy': 0.8123988136140013, 'f1': 0.8146903848459115}, 0.82: {'precision': 0.8066427637692719, 'recall': 0.8220541733576923, 'accuracy': 0.8122057021090836, 'f1': 0.8142754775047936}}\n"
     ]
    }
   ],
   "source": [
    "# find the best threshold for the model \n",
    "thresholds = {}\n",
    "for i in range(34,84, 2):\n",
    "    i=i/100\n",
    "    precision, recall, accuracy, f1 = [], [], [], []\n",
    "    \n",
    "    for _ in range(10):\n",
    "        precision_, recall_, accuracy_, f1_ = evaluate_model(model, test_loader, threshold=i)\n",
    "        precision.append(precision_)\n",
    "        recall.append(recall_)\n",
    "        accuracy.append(accuracy_)\n",
    "        f1.append(f1_)\n",
    "    print(f'Threshold: {i},Accuracy: {np.mean(accuracy)}')    \n",
    "    thresholds[i] = {'precision': np.mean(precision), 'recall': np.mean(recall), 'accuracy': np.mean(accuracy), 'f1': np.mean(f1)}\n",
    "\n",
    "print(thresholds)\n",
    "    \n"
   ]
  },
  {
   "cell_type": "code",
   "execution_count": 100,
   "metadata": {},
   "outputs": [
    {
     "data": {
      "image/png": "[encoded data removed]",
      "text/plain": [
       "<Figure size 1000x600 with 1 Axes>"
      ]
     },
     "metadata": {},
     "output_type": "display_data"
    }
   ],
   "source": [
    "import matplotlib.pyplot as plt\n",
    "\n",
    "# separate the values\n",
    "precision = [thresholds[x]['precision'] for x in thresholds]\n",
    "recall = [thresholds[x]['recall'] for x in thresholds]\n",
    "accuracy = [thresholds[x]['accuracy'] for x in thresholds]\n",
    "f1 = [thresholds[x]['f1'] for x in thresholds]\n",
    "\n",
    "# plot the values\n",
    "plt.figure(figsize=(10, 6))\n",
    "plt.plot(precision, label='Precision')\n",
    "plt.plot(recall, label='Recall')\n",
    "plt.plot(accuracy, label='Accuracy')\n",
    "plt.plot(f1, label='F1 Score')\n",
    "plt.title('Metrics over Thresholds')\n",
    "plt.xlabel('Threshold Index')\n",
    "plt.ylabel('Metric Value')\n",
    "plt.legend()\n",
    "plt.show()"
   ]
  },
  {
   "cell_type": "code",
   "execution_count": 101,
   "metadata": {},
   "outputs": [
    {
     "name": "stdout",
     "output_type": "stream",
     "text": [
      "Best threshold f1: 0.34, F1: 0.8238246536030056\n",
      "Best threshold acc: 0.34, ACC: 0.8165623946911372\n"
     ]
    }
   ],
   "source": [
    "max_acc = max_f1 = -1\n",
    "best_threshold_acc=best_threshold_fi = None\n",
    "for threshold in thresholds:\n",
    "\n",
    "    if thresholds[threshold]['accuracy'] > max_acc :\n",
    "        max_acc = thresholds[threshold]['accuracy']\n",
    "        \n",
    "        best_threshold_acc = threshold\n",
    "\n",
    "    if thresholds[threshold]['f1'] > max_f1:\n",
    "        max_f1 = thresholds[threshold]['f1']\n",
    "        best_threshold_fi = threshold\n",
    "\n",
    "print(f\"Best threshold f1: {best_threshold_fi}, F1: {max_f1}\")\n",
    "print(f\"Best threshold acc: {best_threshold_acc}, ACC: {max_acc}\")"
   ]
  },
  {
   "cell_type": "code",
   "execution_count": 102,
   "metadata": {},
   "outputs": [
    {
     "name": "stdout",
     "output_type": "stream",
     "text": [
      "Threshold: 0.34\n",
      "Precision: 0.8064751920698978\n",
      "Recall: 0.8221869786864321\n",
      "Accuracy: 0.8121862858517543\n",
      "F1 Score: 0.8142551787495966\n"
     ]
    }
   ],
   "source": [
    "# find the best threshold for the model \n",
    "thresholds = {}\n",
    "\n",
    "precision, recall, accuracy, f1 = [], [], [], []\n",
    "for _ in range(10):\n",
    "    precision_, recall_, accuracy_, f1_ = evaluate_model(model, test_loader, threshold=best_threshold_acc)\n",
    "    precision.append(precision_)\n",
    "    recall.append(recall_)\n",
    "    accuracy.append(accuracy_)\n",
    "    f1.append(f1_)\n",
    "print(f'Threshold: {best_threshold_acc}')\n",
    "print(f'Precision: {np.mean(precision)}')\n",
    "print(f'Recall: {np.mean(recall)}')\n",
    "print(f'Accuracy: {np.mean(accuracy)}')\n",
    "print(f'F1 Score: {np.mean(f1)}')\n",
    "\n",
    "    \n"
   ]
  }
 ],
 "metadata": {
  "kernelspec": {
   "display_name": "torch-gpu",
   "language": "python",
   "name": "python3"
  },
  "language_info": {
   "codemirror_mode": {
    "name": "ipython",
    "version": 3
   },
   "file_extension": ".py",
   "mimetype": "text/x-python",
   "name": "python",
   "nbconvert_exporter": "python",
   "pygments_lexer": "ipython3",
   "version": "3.8.16"
  }
 },
 "nbformat": 4,
 "nbformat_minor": 2
}
