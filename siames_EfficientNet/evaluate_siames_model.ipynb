{
 "cells": [
  {
   "cell_type": "markdown",
   "metadata": {},
   "source": [
    "# SIames model evaluateion"
   ]
  },
  {
   "cell_type": "code",
   "execution_count": 1,
   "metadata": {},
   "outputs": [],
   "source": [
    "import torch\n",
    "import torch.nn as nn\n",
    "import torch.nn.functional as F\n",
    "import os\n",
    "from tqdm import tqdm\n",
    "import random\n",
    "import numpy as np\n",
    "from torch.utils.data import Dataset, DataLoader\n",
    "from torchvision import transforms\n",
    "from PIL import Image\n",
    "import glob\n",
    "from collections import defaultdict\n",
    "import pandas as pd\n",
    "import gc\n",
    "import json\n",
    "import matplotlib.pyplot as plt\n",
    "from siamese_dataset2 import SiameseDataset\n",
    "from torchvision.models import efficientnet_b0, EfficientNet_B0_Weights\n",
    "from pathlib import Path\n",
    "from test_model import evaluate, loss_graf, predict\n",
    "from siamese_dataset2 import SiameseDataset\n"
   ]
  },
  {
   "cell_type": "code",
   "execution_count": 2,
   "metadata": {},
   "outputs": [
    {
     "name": "stdout",
     "output_type": "stream",
     "text": [
      "Device: mps\n"
     ]
    }
   ],
   "source": [
    "device = torch.device(\"cpu\")\n",
    "if torch.backends.mps.is_available():\n",
    "    device = torch.device(\"mps\")\n",
    "elif torch.cuda.is_available():\n",
    "    device = torch.device(\"cuda\")\n",
    "print(f\"Device: {device}\")\n"
   ]
  },
  {
   "cell_type": "markdown",
   "metadata": {},
   "source": [
    "## INIT THE MODEL"
   ]
  },
  {
   "cell_type": "code",
   "execution_count": 3,
   "metadata": {},
   "outputs": [],
   "source": [
    "class SiameseNetwork(nn.Module):\n",
    "    def __init__(self, base_model):\n",
    "        super(SiameseNetwork, self).__init__()\n",
    "        self.base_model = base_model\n",
    "        self.classifier = nn.Linear(1280, 1)\n",
    "\n",
    "    def forward(self, input1, input2):\n",
    "        output1 = self.base_model(input1)\n",
    "        output2 = self.base_model(input2)\n",
    "        l1_distance = torch.abs(output1 - output2)\n",
    "        output = self.classifier(l1_distance)\n",
    "        return output\n",
    "\n",
    "\n"
   ]
  },
  {
   "cell_type": "markdown",
   "metadata": {},
   "source": [
    "### Load Weights"
   ]
  },
  {
   "cell_type": "code",
   "execution_count": 4,
   "metadata": {},
   "outputs": [],
   "source": [
    "model_path='/Users/aljazjustin/Siht/Praksa/compear_model/models/best_model_loss.pth'\n",
    "checkpoint = torch.load(model_path, map_location=torch.device('cpu'))\n",
    "\n",
    "\n",
    "# Load state_dict into classifier\n",
    "model_base = efficientnet_b0()\n",
    "model_base.classifier = nn.Identity()\n",
    "model_base.load_state_dict(checkpoint['model_state_dict'])\n",
    "model_base.eval()\n",
    "model= SiameseNetwork(model_base)\n",
    "# print(model)\n",
    "\n",
    "model.classifier.load_state_dict(checkpoint['linear_state_dict'])\n",
    "model.to(device)\n",
    "_=model.eval()"
   ]
  },
  {
   "cell_type": "markdown",
   "metadata": {},
   "source": [
    "### Prepear test dataset"
   ]
  },
  {
   "cell_type": "code",
   "execution_count": 5,
   "metadata": {},
   "outputs": [],
   "source": [
    "def convert_to_rgb(image):\n",
    "    return image.convert('RGB')\n",
    "\n",
    "\n",
    "\n",
    "transform = transforms.Compose([\n",
    "    transforms.Resize((224, 224)),\n",
    "    transforms.Lambda(convert_to_rgb),\n",
    "    transforms.ToTensor(),\n",
    "    transforms.Normalize([0.485, 0.456, 0.406], [0.229, 0.224, 0.225])\n",
    "])\n",
    "\n",
    "test_files=\"/Users/aljazjustin/Siht/Praksa/NEW/final_data/test\"\n",
    "\n",
    "dataset_test = SiameseDataset(test_files, transform=transform)\n",
    "test_loader = DataLoader(dataset_test, batch_size=16, shuffle=False, pin_memory=True)  # Use pinned memory"
   ]
  },
  {
   "cell_type": "code",
   "execution_count": 6,
   "metadata": {},
   "outputs": [
    {
     "name": "stdout",
     "output_type": "stream",
     "text": [
      "Precision: 0.5932864949258392\n",
      "Recall: 0.9429280397022333\n",
      "Accuracy: 0.6604790419161677\n",
      "F1 Score: 0.7283181600383325\n"
     ]
    }
   ],
   "source": [
    "from sklearn.metrics import precision_score, recall_score, f1_score, accuracy_score\n",
    "\n",
    "model.eval()\n",
    "predictions = []\n",
    "labels = []\n",
    "\n",
    "def evaluate_model(model, test_loader, threshold=0.5):\n",
    "    for batch in test_loader:\n",
    "        image1, image2, label = batch\n",
    "        image1 = image1.to(device)\n",
    "        image2 = image2.to(device)\n",
    "        output = model(image1, image2)\n",
    "        \n",
    "        # Convert model output to label\n",
    "        predicted_labels = (output > threshold).float()\n",
    "        predictions.extend(predicted_labels.tolist())\n",
    "        labels.extend(label.tolist())\n",
    "\n",
    "    # Calculate precision and recall\n",
    "    precision = precision_score(labels, predictions)\n",
    "    recall = recall_score(labels, predictions)\n",
    "    accuracy = accuracy_score(labels, predictions)\n",
    "    f1 = f1_score(labels, predictions)\n",
    "    return precision, recall, accuracy, f1\n",
    "\n",
    "precision, recall, accuracy, f1 = evaluate_model(model, test_loader)\n",
    "\n",
    "print(f'Precision: {precision}')\n",
    "print(f'Recall: {recall}')\n",
    "print(f'Accuracy: {accuracy}')\n",
    "print(f'F1 Score: {f1}')\n"
   ]
  },
  {
   "cell_type": "markdown",
   "metadata": {},
   "source": [
    "### Find the best threshold for the model"
   ]
  },
  {
   "cell_type": "code",
   "execution_count": 8,
   "metadata": {},
   "outputs": [
    {
     "name": "stdout",
     "output_type": "stream",
     "text": [
      "Threshold: 0.34,Accuracy: 0.6633494487038245\n",
      "Threshold: 0.36,Accuracy: 0.6623152838775411\n",
      "Threshold: 0.38,Accuracy: 0.6636836008465125\n",
      "Threshold: 0.4,Accuracy: 0.6639407057108258\n",
      "Threshold: 0.42,Accuracy: 0.664437322897587\n",
      "Threshold: 0.44,Accuracy: 0.666190228797095\n",
      "Threshold: 0.46,Accuracy: 0.6665904890422395\n",
      "Threshold: 0.48,Accuracy: 0.6669510496763167\n",
      "Threshold: 0.5,Accuracy: 0.6669000332231241\n",
      "Threshold: 0.52,Accuracy: 0.6673864515831258\n",
      "Threshold: 0.54,Accuracy: 0.668241341767945\n",
      "Threshold: 0.56,Accuracy: 0.6686000955212437\n",
      "Threshold: 0.58,Accuracy: 0.6694603610151477\n",
      "Threshold: 0.6,Accuracy: 0.6700547141443371\n",
      "Threshold: 0.62,Accuracy: 0.6709995364274465\n",
      "Threshold: 0.64,Accuracy: 0.6717722791300088\n",
      "Threshold: 0.66,Accuracy: 0.6723096664381327\n",
      "Threshold: 0.68,Accuracy: 0.6726047118286005\n",
      "Threshold: 0.7,Accuracy: 0.6733091801425033\n",
      "Threshold: 0.72,Accuracy: 0.6740555280795334\n",
      "Threshold: 0.74,Accuracy: 0.674807955001654\n",
      "Threshold: 0.76,Accuracy: 0.6753781521888131\n",
      "Threshold: 0.78,Accuracy: 0.6757435102193918\n",
      "Threshold: 0.8,Accuracy: 0.6766011803536509\n",
      "Threshold: 0.82,Accuracy: 0.6774281710861673\n",
      "{0.34: {'precision': 0.6041791068864371, 'recall': 0.9522171344425827, 'accuracy': 0.6633494487038245, 'f1': 0.7392832995351186}, 0.36: {'precision': 0.6027103512000868, 'recall': 0.9518675606637054, 'accuracy': 0.6623152838775411, 'f1': 0.7380785027864765}, 0.38: {'precision': 0.6036414108621108, 'recall': 0.9511141495449195, 'accuracy': 0.6636836008465125, 'f1': 0.7385493190097485}, 0.4: {'precision': 0.6037331930721834, 'recall': 0.9511063391983061, 'accuracy': 0.6639407057108258, 'f1': 0.7386156743778752}, 0.42: {'precision': 0.6041749222902622, 'recall': 0.9506671973735974, 'accuracy': 0.664437322897587, 'f1': 0.738813486948248}, 0.44: {'precision': 0.6063453822298794, 'recall': 0.9504047736879796, 'accuracy': 0.666190228797095, 'f1': 0.7403545347624672}, 0.46: {'precision': 0.6066881950641114, 'recall': 0.9498904964568944, 'accuracy': 0.6665904890422395, 'f1': 0.7404537907674797}, 0.48: {'precision': 0.6071655612201382, 'recall': 0.949537313224609, 'accuracy': 0.6669510496763167, 'f1': 0.7407018242178545}, 0.5: {'precision': 0.6066994822246101, 'recall': 0.9492593782486839, 'accuracy': 0.6669000332231241, 'f1': 0.7402704109540437}, 0.52: {'precision': 0.6069035213499298, 'recall': 0.9488692428176135, 'accuracy': 0.6673864515831258, 'f1': 0.740303577547192}, 0.54: {'precision': 0.607781143531497, 'recall': 0.9480799161686226, 'accuracy': 0.668241341767945, 'f1': 0.7407152918527278}, 0.56: {'precision': 0.6082893866163243, 'recall': 0.9471280458087501, 'accuracy': 0.6686000955212437, 'f1': 0.7408016377330984}, 0.58: {'precision': 0.6092011719094692, 'recall': 0.946313988388231, 'accuracy': 0.6694603610151477, 'f1': 0.7412278445185602}, 0.6: {'precision': 0.6096449935605944, 'recall': 0.9459948874234758, 'accuracy': 0.6700547141443371, 'f1': 0.7414582798714532}, 0.62: {'precision': 0.6105943012635743, 'recall': 0.945737021347884, 'accuracy': 0.6709995364274465, 'f1': 0.7420805313458705}, 0.64: {'precision': 0.6114012212731834, 'recall': 0.9449841465275762, 'accuracy': 0.6717722791300088, 'f1': 0.7424438715281207}, 0.66: {'precision': 0.6119766543708325, 'recall': 0.9441036694806348, 'accuracy': 0.6723096664381327, 'f1': 0.7425958562221612}, 0.68: {'precision': 0.6122821090145034, 'recall': 0.9434522906294852, 'accuracy': 0.6726047118286005, 'f1': 0.7426189628606629}, 0.7: {'precision': 0.6129392815447596, 'recall': 0.9428092961437884, 'accuracy': 0.6733091801425033, 'f1': 0.7429026069760686}, 0.72: {'precision': 0.6134761947000937, 'recall': 0.9421915103152223, 'accuracy': 0.6740555280795334, 'f1': 0.7431047646410777}, 0.74: {'precision': 0.6141254910363569, 'recall': 0.9416711948380888, 'accuracy': 0.674807955001654, 'f1': 0.7434187526262019}, 0.76: {'precision': 0.614819615964978, 'recall': 0.9408539238366573, 'accuracy': 0.6753781521888131, 'f1': 0.7436719888003547}, 0.78: {'precision': 0.6151061133674423, 'recall': 0.9401520097793588, 'accuracy': 0.6757435102193918, 'f1': 0.7436620558536675}, 0.8: {'precision': 0.6159504348154089, 'recall': 0.9394142331058717, 'accuracy': 0.6766011803536509, 'f1': 0.7440474359340369}, 0.82: {'precision': 0.6167383428421382, 'recall': 0.9386824992515708, 'accuracy': 0.6774281710861673, 'f1': 0.7443920476542758}}\n"
     ]
    }
   ],
   "source": [
    "# find the best threshold for the model \n",
    "thresholds = {}\n",
    "for i in range(34,84, 2):\n",
    "    i=i/100\n",
    "    precision, recall, accuracy, f1 = [], [], [], []\n",
    "    \n",
    "    for _ in range(5):\n",
    "        precision_, recall_, accuracy_, f1_ = evaluate_model(model, test_loader, threshold=i)\n",
    "        precision.append(precision_)\n",
    "        recall.append(recall_)\n",
    "        accuracy.append(accuracy_)\n",
    "        f1.append(f1_)\n",
    "    print(f'Threshold: {i},Accuracy: {np.mean(accuracy)}')    \n",
    "    thresholds[i] = {'precision': np.mean(precision), 'recall': np.mean(recall), 'accuracy': np.mean(accuracy), 'f1': np.mean(f1)}\n",
    "\n",
    "print(thresholds)\n",
    "    \n"
   ]
  },
  {
   "cell_type": "code",
   "execution_count": 9,
   "metadata": {},
   "outputs": [
    {
     "data": {
      "image/png": "[encoded data removed]",
      "text/plain": [
       "<Figure size 1000x600 with 1 Axes>"
      ]
     },
     "metadata": {},
     "output_type": "display_data"
    }
   ],
   "source": [
    "import matplotlib.pyplot as plt\n",
    "\n",
    "# separate the values\n",
    "precision = [thresholds[x]['precision'] for x in thresholds]\n",
    "recall = [thresholds[x]['recall'] for x in thresholds]\n",
    "accuracy = [thresholds[x]['accuracy'] for x in thresholds]\n",
    "f1 = [thresholds[x]['f1'] for x in thresholds]\n",
    "\n",
    "# plot the values\n",
    "plt.figure(figsize=(10, 6))\n",
    "plt.plot(precision, label='Precision')\n",
    "plt.plot(recall, label='Recall')\n",
    "plt.plot(accuracy, label='Accuracy')\n",
    "plt.plot(f1, label='F1 Score')\n",
    "plt.title('Metrics over Thresholds')\n",
    "plt.xlabel('Threshold Index')\n",
    "plt.ylabel('Metric Value')\n",
    "plt.legend()\n",
    "plt.show()"
   ]
  },
  {
   "cell_type": "code",
   "execution_count": 10,
   "metadata": {},
   "outputs": [
    {
     "name": "stdout",
     "output_type": "stream",
     "text": [
      "Best threshold f1: 0.82, F1: 0.7443920476542758\n",
      "Best threshold acc: 0.82, ACC: 0.6774281710861673\n"
     ]
    }
   ],
   "source": [
    "max_acc = max_f1 = -1\n",
    "best_threshold_acc=best_threshold_fi = None\n",
    "for threshold in thresholds:\n",
    "\n",
    "    if thresholds[threshold]['accuracy'] > max_acc :\n",
    "        max_acc = thresholds[threshold]['accuracy']\n",
    "        \n",
    "        best_threshold_acc = threshold\n",
    "\n",
    "    if thresholds[threshold]['f1'] > max_f1:\n",
    "        max_f1 = thresholds[threshold]['f1']\n",
    "        best_threshold_fi = threshold\n",
    "\n",
    "print(f\"Best threshold f1: {best_threshold_fi}, F1: {max_f1}\")\n",
    "print(f\"Best threshold acc: {best_threshold_acc}, ACC: {max_acc}\")"
   ]
  },
  {
   "cell_type": "code",
   "execution_count": 11,
   "metadata": {},
   "outputs": [
    {
     "name": "stdout",
     "output_type": "stream",
     "text": [
      "Threshold: 0.82\n",
      "Precision: 0.6174880473091149\n",
      "Recall: 0.9378207105137829\n",
      "Accuracy: 0.6783246979345124\n",
      "F1 Score: 0.744666258682421\n"
     ]
    }
   ],
   "source": [
    "# find the best threshold for the model \n",
    "thresholds = {}\n",
    "\n",
    "precision, recall, accuracy, f1 = [], [], [], []\n",
    "for _ in range(10):\n",
    "    precision_, recall_, accuracy_, f1_ = evaluate_model(model, test_loader, threshold=best_threshold_acc)\n",
    "    precision.append(precision_)\n",
    "    recall.append(recall_)\n",
    "    accuracy.append(accuracy_)\n",
    "    f1.append(f1_)\n",
    "print(f'Threshold: {best_threshold_acc}')\n",
    "print(f'Precision: {np.mean(precision)}')\n",
    "print(f'Recall: {np.mean(recall)}')\n",
    "print(f'Accuracy: {np.mean(accuracy)}')\n",
    "print(f'F1 Score: {np.mean(f1)}')\n",
    "\n",
    "    \n"
   ]
  },
  {
   "cell_type": "code",
   "execution_count": 14,
   "metadata": {},
   "outputs": [],
   "source": [
    "# find the best threshold for the model \n",
    "thresholds = {}\n",
    "\n",
    "precision, recall, accuracy, f1 = [], [], [], []\n",
    "for _ in range(10):\n",
    "    precision_, recall_, accuracy_, f1_ = evaluate_model(model, test_loader, threshold=0.9)\n",
    "    precision.append(precision_)\n",
    "    recall.append(recall_)\n",
    "    accuracy.append(accuracy_)\n",
    "    f1.append(f1_)\n",
    "print(f'Threshold: {0.9}')\n",
    "print(f'Precision: {np.mean(precision)}')\n",
    "print(f'Recall: {np.mean(recall)}')\n",
    "print(f'Accuracy: {np.mean(accuracy)}')\n",
    "print(f'F1 Score: {np.mean(f1)}')\n",
    "\n",
    "    \n"
   ]
  },
  {
   "cell_type": "code",
   "execution_count": null,
   "metadata": {},
   "outputs": [],
   "source": [
    "# find the best threshold for the model \n",
    "thresholds = {}\n",
    "for i in range(80,110, 2):\n",
    "    i=i/100\n",
    "    precision, recall, accuracy, f1 = [], [], [], []\n",
    "    \n",
    "    for _ in range(5):\n",
    "        precision_, recall_, accuracy_, f1_ = evaluate_model(model, test_loader, threshold=i)\n",
    "        precision.append(precision_)\n",
    "        recall.append(recall_)\n",
    "        accuracy.append(accuracy_)\n",
    "        f1.append(f1_)\n",
    "    print(f'Threshold: {i},Accuracy: {np.mean(accuracy)}')    \n",
    "    thresholds[i] = {'precision': np.mean(precision), 'recall': np.mean(recall), 'accuracy': np.mean(accuracy), 'f1': np.mean(f1)}\n",
    "\n",
    "print(thresholds)\n",
    "    \n"
   ]
  }
 ],
 "metadata": {
  "kernelspec": {
   "display_name": "torch-gpu",
   "language": "python",
   "name": "python3"
  },
  "language_info": {
   "codemirror_mode": {
    "name": "ipython",
    "version": 3
   },
   "file_extension": ".py",
   "mimetype": "text/x-python",
   "name": "python",
   "nbconvert_exporter": "python",
   "pygments_lexer": "ipython3",
   "version": "3.8.16"
  }
 },
 "nbformat": 4,
 "nbformat_minor": 2
}
